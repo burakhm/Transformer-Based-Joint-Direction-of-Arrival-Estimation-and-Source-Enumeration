{
 "cells": [
  {
   "cell_type": "code",
   "execution_count": 1,
   "id": "71c0532a",
   "metadata": {},
   "outputs": [],
   "source": [
    "import os\n",
    "import sys\n",
    "import random\n",
    "import numpy as np\n",
    "import matplotlib.pyplot as plt\n",
    "from numpy import linalg as la\n",
    "\n",
    "sys.path.insert(0, '../../../methods')\n",
    "from music import *"
   ]
  },
  {
   "cell_type": "code",
   "execution_count": 2,
   "id": "1c311439",
   "metadata": {},
   "outputs": [
    {
     "name": "stdout",
     "output_type": "stream",
     "text": [
      "snr -20dB, T 1000, test-rmse 18.0962\n",
      "snr -15dB, T 1000, test-rmse 8.1708\n",
      "snr -10dB, T 1000, test-rmse 0.4914\n",
      "snr -5dB, T 1000, test-rmse 0.3513\n",
      "snr 0dB, T 1000, test-rmse 0.3411\n",
      "snr 5dB, T 1000, test-rmse 0.3358\n",
      "snr 10dB, T 1000, test-rmse 0.3358\n",
      "snr 15dB, T 1000, test-rmse 0.3358\n",
      "snr 20dB, T 1000, test-rmse 0.3358\n",
      "snr 25dB, T 1000, test-rmse 0.3359\n",
      "snr 30dB, T 1000, test-rmse 0.3359\n",
      "snr -10dB, T 100, test-rmse 10.6641\n",
      "snr -10dB, T 200, test-rmse 9.0760\n",
      "snr -10dB, T 500, test-rmse 0.5728\n",
      "snr -10dB, T 1000, test-rmse 0.4914\n",
      "snr -10dB, T 2000, test-rmse 0.3678\n",
      "snr -10dB, T 5000, test-rmse 0.3327\n",
      "snr -10dB, T 10000, test-rmse 0.3250\n"
     ]
    }
   ],
   "source": [
    "snr_list = [-20,-15,-10,-5,0,5,10,15,20,25,30]\n",
    "T_list = [100,200,500,1000,2000,5000,10000]\n",
    "rmse_list1 = []\n",
    "rmse_list2 = []\n",
    "\n",
    "for snr in snr_list:\n",
    "    # load data\n",
    "    data = np.load(f'../../../data/experiment_1/scenario_1/data_test_snr{snr}_t1000.npy', allow_pickle=True)\n",
    "\n",
    "    # get labels and data seperately\n",
    "    truths = [s['label'] for s in data]\n",
    "    data = [s['cm'] for s in data]\n",
    "\n",
    "    truths = np.stack(truths)\n",
    "    data = np.stack(data)\n",
    "    truths = truths.squeeze(2)\n",
    "\n",
    "    # apply music algorithm\n",
    "    M = 7\n",
    "    N = 4\n",
    "    res = 1\n",
    "    preds = np.zeros((data.shape[0],N))\n",
    "\n",
    "    for i in range(data.shape[0]):\n",
    "        R = data[i,:,:]\n",
    "        sensor_pos = np.zeros((M,3))\n",
    "        sensor_pos[:,0] = np.array([1,2,3,6,10,14,16])*0.5\n",
    "\n",
    "        preds[i,:], spectrum = music(R,M,N,sensor_pos,res)\n",
    "        preds[i,:] = np.sort(preds[i,:])\n",
    "        truths[i,:] = np.sort(truths[i,:])\n",
    "\n",
    "        if snr==10 and i==0:\n",
    "             np.save(f'../../../results/experiment_1/scenario_1/music_spectrum_{truths[0]}deg.npy', spectrum)\n",
    "    \n",
    "    rmse = np.sqrt(np.mean((truths-preds)**2))\n",
    "    rmse_list1.append(rmse)\n",
    "    \n",
    "    print(f\"snr {snr}dB, T {1000}, test-rmse {rmse:.4f}\")\n",
    "    \n",
    "    np.save(f'../../../results/experiment_1/scenario_1/music_preds_snr{snr}_t1000.npy', preds)\n",
    "    np.save(f'../../../results/experiment_1/scenario_1/music_truths_snr{snr}_t1000.npy', truths)\n",
    "    \n",
    "for T in T_list:\n",
    "    # load data\n",
    "    data = np.load(f'../../../data/experiment_1/scenario_1/data_test_snr-10_t{T}.npy', allow_pickle=True)\n",
    "\n",
    "    # get labels and data seperately\n",
    "    truths = [s['label'] for s in data]\n",
    "    data = [s['cm'] for s in data]\n",
    "\n",
    "    truths = np.stack(truths)\n",
    "    data = np.stack(data)\n",
    "    truths = truths.squeeze(2)\n",
    "\n",
    "    # apply music algorithm\n",
    "    M = 7\n",
    "    N = 4\n",
    "    res = 1\n",
    "    preds = np.zeros((data.shape[0],N))\n",
    "\n",
    "    for i in range(data.shape[0]):\n",
    "        R = data[i,:,:]\n",
    "        sensor_pos = np.zeros((M,3))\n",
    "        sensor_pos[:,0] = np.array([1,2,3,6,10,14,16])*0.5\n",
    "\n",
    "        preds[i,:], spectrum = music(R,M,N,sensor_pos,res)\n",
    "        preds[i,:] = np.sort(preds[i,:])\n",
    "        truths[i,:] = np.sort(truths[i,:])\n",
    "\n",
    "    rmse = np.sqrt(np.mean((truths-preds)**2))\n",
    "    rmse_list2.append(rmse)\n",
    "    \n",
    "    print(f\"snr -10dB, T {T}, test-rmse {rmse:.4f}\")\n",
    "    \n",
    "    np.save(f'../../../results/experiment_1/scenario_1/music_preds_snr-10_t{T}.npy', preds)\n",
    "    np.save(f'../../../results/experiment_1/scenario_1/music_truths_snr-10_t{T}.npy', truths)\n",
    "    \n",
    "np.save('../../../results/experiment_1/scenario_1/music_rmse1.npy', rmse_list1)\n",
    "np.save('../../../results/experiment_1/scenario_1/music_rmse2.npy', rmse_list2)"
   ]
  },
  {
   "cell_type": "code",
   "execution_count": 3,
   "id": "cc354f38",
   "metadata": {},
   "outputs": [
    {
     "data": {
      "image/png": "[encoded data removed]",
      "text/plain": [
       "<Figure size 432x288 with 1 Axes>"
      ]
     },
     "metadata": {
      "needs_background": "light"
     },
     "output_type": "display_data"
    },
    {
     "data": {
      "image/png": "[encoded data removed]",
      "text/plain": [
       "<Figure size 432x288 with 1 Axes>"
      ]
     },
     "metadata": {
      "needs_background": "light"
     },
     "output_type": "display_data"
    }
   ],
   "source": [
    "# plot rmse values\n",
    "plt.figure()\n",
    "plt.plot(snr_list, rmse_list1, '-o')\n",
    "plt.title(\"rmse values for different snr levels\")\n",
    "plt.xlabel(\"snr (dB)\")\n",
    "plt.ylabel(\"rmse (deg)\")\n",
    "plt.legend(['music'])\n",
    "plt.yscale(\"log\")\n",
    "plt.grid()\n",
    "\n",
    "plt.figure()\n",
    "plt.plot(T_list, rmse_list2, '-o')\n",
    "plt.title(\"rmse values for different snapshot numbers\")\n",
    "plt.xlabel(\"T\")\n",
    "plt.ylabel(\"rmse (deg)\")\n",
    "plt.legend(['music'])\n",
    "plt.yscale(\"log\")\n",
    "plt.grid()"
   ]
  },
  {
   "cell_type": "code",
   "execution_count": 9,
   "id": "4e43ef33",
   "metadata": {},
   "outputs": [],
   "source": []
  },
  {
   "cell_type": "code",
   "execution_count": null,
   "id": "704a1fc1",
   "metadata": {},
   "outputs": [],
   "source": []
  }
 ],
 "metadata": {
  "kernelspec": {
   "display_name": "Python 3 (ipykernel)",
   "language": "python",
   "name": "python3"
  },
  "language_info": {
   "codemirror_mode": {
    "name": "ipython",
    "version": 3
   },
   "file_extension": ".py",
   "mimetype": "text/x-python",
   "name": "python",
   "nbconvert_exporter": "python",
   "pygments_lexer": "ipython3",
   "version": "3.10.15"
  }
 },
 "nbformat": 4,
 "nbformat_minor": 5
}
