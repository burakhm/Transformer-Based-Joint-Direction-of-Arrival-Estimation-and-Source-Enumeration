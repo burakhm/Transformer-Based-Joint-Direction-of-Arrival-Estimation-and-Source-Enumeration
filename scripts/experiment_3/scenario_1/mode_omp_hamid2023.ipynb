{
 "cells": [
  {
   "cell_type": "code",
   "execution_count": null,
   "id": "71c0532a",
   "metadata": {
    "id": "71c0532a"
   },
   "outputs": [],
   "source": [
    "import os\n",
    "import sys\n",
    "import random\n",
    "import pickle\n",
    "import numpy as np\n",
    "import matplotlib.pyplot as plt\n",
    "import torch\n",
    "from numpy import linalg as la\n",
    "from scipy.optimize import linear_sum_assignment\n",
    "from scipy.spatial.distance import directed_hausdorff\n",
    "\n",
    "sys.path.insert(0, '../../../methods')\n",
    "from mode_omp import *"
   ]
  },
  {
   "cell_type": "code",
   "execution_count": null,
   "id": "68cdcd33",
   "metadata": {
    "colab": {
     "base_uri": "https://localhost:8080/"
    },
    "id": "68cdcd33",
    "outputId": "369134c9-33d5-44f9-c7dc-9484c9fefb2e"
   },
   "outputs": [],
   "source": [
    "# random seed\n",
    "seed = 1234\n",
    "random.seed(seed)\n",
    "np.random.seed(seed)\n",
    "torch.manual_seed(seed)"
   ]
  },
  {
   "cell_type": "code",
   "execution_count": null,
   "id": "xtDARzI273d7",
   "metadata": {
    "colab": {
     "base_uri": "https://localhost:8080/"
    },
    "id": "xtDARzI273d7",
    "outputId": "5b7c7409-3eca-4492-eaeb-83b85cbee147"
   },
   "outputs": [],
   "source": [
    "snr_list = [-20,-15,-10,-5,0,5,10,15,20,25,30]\n",
    "T_list = [100,200,500,1000,2000,5000,10000]\n",
    "rmse_list1 = []\n",
    "rmse_list2 = []\n",
    "hausdorff_list1 = []\n",
    "hausdorff_list2 = []\n",
    "pdet_list1 = []\n",
    "pdet_list2 = []\n",
    "sn_acc_list1 = []\n",
    "sn_acc_list2 = []\n",
    "\n",
    "for snr in snr_list:\n",
    "    # load data\n",
    "    data = np.load(f'../../../data/experiment_3/scenario_1/data_test_snr{snr}_t1000.npy', allow_pickle=True)\n",
    "\n",
    "    # get labels and data seperately\n",
    "    truths = [s['label'] for s in data]\n",
    "    sensor_pos = [s['sensor_pos'] for s in data]\n",
    "    data = [s['signals'] for s in data]\n",
    "\n",
    "    # apply mode-omp algorithm\n",
    "    res = 1\n",
    "    p_list = []\n",
    "    r_list = []\n",
    "    h_list = []\n",
    "    n_list = []\n",
    "\n",
    "    for i in range(len(data)):\n",
    "        X = data[i]\n",
    "        M = X.shape[0]\n",
    "        N = truths[i].shape[0]\n",
    "        pos = sensor_pos[i]\n",
    "        truths[i] = truths[i].reshape(-1,)\n",
    "\n",
    "        preds = mode_omp(X, pos, M, snr)\n",
    "        preds = np.sort(preds)\n",
    "        truths[i] = np.sort(truths[i])\n",
    "\n",
    "        hausdorff1 = directed_hausdorff(preds.reshape(-1,1), truths[i].reshape(-1,1))[0]\n",
    "        hausdorff2 = directed_hausdorff(truths[i].reshape(-1,1), preds.reshape(-1,1))[0]\n",
    "        h_list.append(max(hausdorff1, hausdorff2))\n",
    "\n",
    "        n_list.append(len(truths[i])==len(preds))\n",
    "\n",
    "    hausdorff = np.mean(h_list)\n",
    "    sn_acc = np.sum(n_list) / len(n_list)\n",
    "    hausdorff_list1.append(hausdorff)\n",
    "    sn_acc_list1.append(sn_acc)\n",
    "\n",
    "    print(f\"snr {snr}dB, T {1000}, test-hausdorff {hausdorff:.4f}, test-sn-acc {sn_acc:.4f}\")\n",
    "\n",
    "    with open(f'../../../results/experiment_3/scenario_1/mode_omp_hamid2023_preds_snr{snr}_t1000', \"wb\") as fp:\n",
    "        pickle.dump(p_list, fp)\n",
    "    with open(f'../../../results/experiment_3/scenario_1/mode_omp_hamid2023_truths_snr{snr}_t1000', \"wb\") as fp:\n",
    "        pickle.dump(truths, fp)\n",
    "\n",
    "\n",
    "for T in T_list:\n",
    "    # load data\n",
    "    data = np.load(f'../../../data/experiment_3/scenario_1/data_test_snr-10_t{T}.npy', allow_pickle=True)\n",
    "\n",
    "    # get labels and data seperately\n",
    "    truths = [s['label'] for s in data]\n",
    "    sensor_pos = [s['sensor_pos'] for s in data]\n",
    "    data = [s['signals'] for s in data]\n",
    "\n",
    "    # apply mode-omp algorithm\n",
    "    res = 1\n",
    "    p_list = []\n",
    "    r_list = []\n",
    "    h_list = []\n",
    "    n_list = []\n",
    "\n",
    "    for i in range(len(data)):\n",
    "        X = data[i]\n",
    "        M = X.shape[0]\n",
    "        N = truths[i].shape[0]\n",
    "        pos = sensor_pos[i]\n",
    "        truths[i] = truths[i].reshape(-1,)\n",
    "\n",
    "        preds = mode_omp(X, pos, M, -10)\n",
    "        preds = np.sort(preds)\n",
    "        truths[i] = np.sort(truths[i])\n",
    "\n",
    "        hausdorff1 = directed_hausdorff(preds.reshape(-1,1), truths[i].reshape(-1,1))[0]\n",
    "        hausdorff2 = directed_hausdorff(truths[i].reshape(-1,1), preds.reshape(-1,1))[0]\n",
    "        h_list.append(max(hausdorff1, hausdorff2))\n",
    "\n",
    "        n_list.append(len(truths[i])==len(preds))\n",
    "\n",
    "    hausdorff = np.mean(h_list)\n",
    "    sn_acc = np.sum(n_list) / len(n_list)\n",
    "    hausdorff_list2.append(hausdorff)\n",
    "    sn_acc_list2.append(sn_acc)\n",
    "\n",
    "    print(f\"snr -10dB, T {T}, test-hausdorff {hausdorff:.4f}, test-sn-acc {sn_acc:.4f}\")\n",
    "\n",
    "    with open(f'../../../results/experiment_3/scenario_1/mode_omp_hamid2023_preds_snr-10_t{T}', \"wb\") as fp:\n",
    "        pickle.dump(p_list, fp)\n",
    "    with open(f'../../../results/experiment_3/scenario_1/mode_omp_hamid2023_truths_snr-10_t{T}', \"wb\") as fp:\n",
    "        pickle.dump(truths, fp)\n",
    "\n",
    "np.save('../../../results/experiment_3/scenario_1/mode_omp_hamid2023_rmse1.npy', rmse_list1)\n",
    "np.save('../../../results/experiment_3/scenario_1/mode_omp_hamid2023_rmse2.npy', rmse_list2)\n",
    "np.save('../../../results/experiment_3/scenario_1/mode_omp_hamid2023_hausdorff1.npy', hausdorff_list1)\n",
    "np.save('../../../results/experiment_3/scenario_1/mode_omp_hamid2023_hausdorff2.npy', hausdorff_list2)\n",
    "np.save('../../../results/experiment_3/scenario_1/mode_omp_hamid2023_snacc1.npy', sn_acc_list1)\n",
    "np.save('../../../results/experiment_3/scenario_1/mode_omp_hamid2023_snacc2.npy', sn_acc_list2)"
   ]
  },
  {
   "cell_type": "code",
   "execution_count": null,
   "id": "cc354f38",
   "metadata": {
    "colab": {
     "base_uri": "https://localhost:8080/",
     "height": 927
    },
    "id": "cc354f38",
    "outputId": "413b4452-1c3e-4f74-cca9-67410273b98f"
   },
   "outputs": [],
   "source": [
    "# plot rmse values\n",
    "plt.figure()\n",
    "plt.plot(snr_list, hausdorff_list1, '-o')\n",
    "plt.title(\"rmse values for different snr levels\")\n",
    "plt.xlabel(\"snr (dB)\")\n",
    "plt.ylabel(\"rmse (deg)\")\n",
    "plt.legend(['mode-omp (hamid 2023)'])\n",
    "plt.yscale(\"log\")\n",
    "plt.grid()\n",
    "\n",
    "plt.figure()\n",
    "plt.plot(T_list, hausdorff_list2, '-o')\n",
    "plt.title(\"rmse values for different snapshot numbers\")\n",
    "plt.xlabel(\"T\")\n",
    "plt.ylabel(\"rmse (deg)\")\n",
    "plt.legend(['mode-omp (hamid 2023)'])\n",
    "plt.yscale(\"log\")\n",
    "plt.grid()"
   ]
  },
  {
   "cell_type": "code",
   "execution_count": null,
   "id": "4e43ef33",
   "metadata": {
    "id": "4e43ef33"
   },
   "outputs": [],
   "source": []
  },
  {
   "cell_type": "code",
   "execution_count": null,
   "id": "704a1fc1",
   "metadata": {
    "id": "704a1fc1"
   },
   "outputs": [],
   "source": []
  },
  {
   "cell_type": "code",
   "execution_count": null,
   "id": "77998e7f",
   "metadata": {},
   "outputs": [],
   "source": []
  }
 ],
 "metadata": {
  "colab": {
   "machine_shape": "hm",
   "provenance": []
  },
  "kernelspec": {
   "display_name": "Python 3 (ipykernel)",
   "language": "python",
   "name": "python3"
  },
  "language_info": {
   "codemirror_mode": {
    "name": "ipython",
    "version": 3
   },
   "file_extension": ".py",
   "mimetype": "text/x-python",
   "name": "python",
   "nbconvert_exporter": "python",
   "pygments_lexer": "ipython3",
   "version": "3.10.15"
  }
 },
 "nbformat": 4,
 "nbformat_minor": 5
}
